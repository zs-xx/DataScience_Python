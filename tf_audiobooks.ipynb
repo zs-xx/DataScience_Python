{
 "cells": [
  {
   "cell_type": "code",
   "execution_count": 1,
   "id": "f618b29a-13c9-4e9a-a130-5243131e41e8",
   "metadata": {},
   "outputs": [],
   "source": [
    "import numpy as np\n",
    "from sklearn import preprocessing\n",
    "import tensorflow as tf"
   ]
  },
  {
   "cell_type": "code",
   "execution_count": 2,
   "id": "79e9da6a-4fcd-42f0-936e-6d4fe36302b2",
   "metadata": {},
   "outputs": [],
   "source": [
    "raw_csv_data = np.loadtxt('audiobooks_data.csv', delimiter=',')\n",
    "unscaled_inputs_all = raw_csv_data[:, 1:-1]\n",
    "targets_all = raw_csv_data[:, -1] # last col\n",
    "\n",
    "# balancing 0s and 1s\n",
    "num_one_targets = int(np.sum(targets_all))\n",
    "zero_targets_counter = 0\n",
    "indices_to_remove = []\n",
    "\n",
    "for i in range(targets_all.shape[0]): # length of vector\n",
    "    if targets_all[i] == 0:\n",
    "        zero_targets_counter += 1\n",
    "        if zero_targets_counter > num_one_targets:\n",
    "            indices_to_remove.append(i)\n",
    "\n",
    "unscaled_inputs_equal_priors = np.delete(unscaled_inputs_all, indices_to_remove, axis=0)\n",
    "targets_equal_priors = np.delete(targets_all, indices_to_remove, axis=0)"
   ]
  },
  {
   "cell_type": "code",
   "execution_count": 3,
   "id": "a932f876-676c-45f0-8549-3f48601d8850",
   "metadata": {},
   "outputs": [
    {
     "name": "stdout",
     "output_type": "stream",
     "text": [
      "1786.0 3579 0.4990220732048058\n",
      "215.0 447 0.4809843400447427\n",
      "236.0 448 0.5267857142857143\n"
     ]
    }
   ],
   "source": [
    "# standardize inputs\n",
    "scaled_inputs = preprocessing.scale(unscaled_inputs_equal_priors)\n",
    "\n",
    "# shuffle\n",
    "shuffled_indices = np.arange(scaled_inputs.shape[0])\n",
    "np.random.shuffle(shuffled_indices)\n",
    "shuffled_inputs = scaled_inputs[shuffled_indices]\n",
    "shuffled_targets = targets_equal_priors[shuffled_indices]\n",
    "\n",
    "# train validation test\n",
    "samples_count = shuffled_inputs.shape[0]\n",
    "train_samples_count = int(0.8 * samples_count)\n",
    "validation_samples_count = int(0.1 * samples_count)\n",
    "test_samples_count = samples_count - validation_samples_count - train_samples_count\n",
    "\n",
    "train_inputs = shuffled_inputs[:train_samples_count]\n",
    "train_targets = shuffled_targets[:train_samples_count]\n",
    "\n",
    "validation_inputs = shuffled_inputs[train_samples_count:train_samples_count+validation_samples_count]\n",
    "validation_targets = shuffled_targets[train_samples_count:train_samples_count+validation_samples_count]\n",
    "\n",
    "test_inputs = shuffled_inputs[train_samples_count+validation_samples_count:]\n",
    "test_targets = shuffled_targets[train_samples_count+validation_samples_count:]\n",
    "\n",
    "print(np.sum(train_targets), train_samples_count, np.sum(train_targets) / train_samples_count)\n",
    "print(np.sum(validation_targets), validation_samples_count, np.sum(validation_targets) / validation_samples_count)\n",
    "print(np.sum(test_targets), test_samples_count, np.sum(test_targets) / test_samples_count)\n",
    "\n",
    "np.savez('audiobooks_data_train', inputs=train_inputs, targets=train_targets)\n",
    "np.savez('audiobooks_data_validation', inputs=validation_inputs, targets=validation_targets)\n",
    "np.savez('audiobooks_data_test', inputs=test_inputs, targets=test_targets)"
   ]
  },
  {
   "cell_type": "code",
   "execution_count": 4,
   "id": "8d54ee35-1f8a-45ef-8193-7d8f9196aeed",
   "metadata": {},
   "outputs": [],
   "source": [
    "npz = np.load('audiobooks_data_train.npz')\n",
    "train_inputs = npz['inputs'].astype(float)\n",
    "train_targets = npz['targets'].astype(int)\n",
    "\n",
    "npz = np.load('audiobooks_data_validation.npz')\n",
    "validation_inputs = npz['inputs'].astype(float)\n",
    "validation_targets = npz['targets'].astype(int)\n",
    "\n",
    "npz = np.load('audiobooks_data_test.npz')\n",
    "test_inputs = npz['inputs'].astype(float)\n",
    "test_targets = npz['targets'].astype(int)"
   ]
  },
  {
   "cell_type": "code",
   "execution_count": 5,
   "id": "f5149e08-4ff1-4852-9c62-8a84f5658d56",
   "metadata": {},
   "outputs": [
    {
     "name": "stdout",
     "output_type": "stream",
     "text": [
      "Epoch 1/100\n"
     ]
    },
    {
     "name": "stderr",
     "output_type": "stream",
     "text": [
      "2025-09-19 20:34:37.226268: I metal_plugin/src/device/metal_device.cc:1154] Metal device set to: Apple M2\n",
      "2025-09-19 20:34:37.226293: I metal_plugin/src/device/metal_device.cc:296] systemMemory: 8.00 GB\n",
      "2025-09-19 20:34:37.226299: I metal_plugin/src/device/metal_device.cc:313] maxCacheSize: 2.67 GB\n",
      "2025-09-19 20:34:37.226312: I tensorflow/core/common_runtime/pluggable_device/pluggable_device_factory.cc:305] Could not identify NUMA node of platform GPU ID 0, defaulting to 0. Your kernel may not have been built with NUMA support.\n",
      "2025-09-19 20:34:37.226320: I tensorflow/core/common_runtime/pluggable_device/pluggable_device_factory.cc:271] Created TensorFlow device (/job:localhost/replica:0/task:0/device:GPU:0 with 0 MB memory) -> physical PluggableDevice (device: 0, name: METAL, pci bus id: <undefined>)\n",
      "2025-09-19 20:34:37.513118: I tensorflow/core/grappler/optimizers/custom_graph_optimizer_registry.cc:117] Plugin optimizer for device_type GPU is enabled.\n"
     ]
    },
    {
     "name": "stdout",
     "output_type": "stream",
     "text": [
      "112/112 - 1s - 13ms/step - accuracy: 0.7329 - loss: 0.4897 - val_accuracy: 0.7763 - val_loss: 0.4082\n",
      "Epoch 2/100\n",
      "112/112 - 1s - 6ms/step - accuracy: 0.7639 - loss: 0.4329 - val_accuracy: 0.7897 - val_loss: 0.3788\n",
      "Epoch 3/100\n",
      "112/112 - 1s - 6ms/step - accuracy: 0.7639 - loss: 0.4157 - val_accuracy: 0.8098 - val_loss: 0.3657\n",
      "Epoch 4/100\n",
      "112/112 - 1s - 6ms/step - accuracy: 0.7645 - loss: 0.4093 - val_accuracy: 0.7964 - val_loss: 0.3593\n",
      "Epoch 5/100\n",
      "112/112 - 1s - 7ms/step - accuracy: 0.7720 - loss: 0.4012 - val_accuracy: 0.7897 - val_loss: 0.3575\n",
      "Epoch 6/100\n",
      "112/112 - 1s - 6ms/step - accuracy: 0.7717 - loss: 0.3963 - val_accuracy: 0.8031 - val_loss: 0.3478\n",
      "Epoch 7/100\n",
      "112/112 - 1s - 6ms/step - accuracy: 0.7726 - loss: 0.3945 - val_accuracy: 0.8076 - val_loss: 0.3479\n",
      "Epoch 8/100\n",
      "112/112 - 1s - 6ms/step - accuracy: 0.7756 - loss: 0.3892 - val_accuracy: 0.7897 - val_loss: 0.3456\n",
      "Epoch 9/100\n",
      "112/112 - 1s - 6ms/step - accuracy: 0.7681 - loss: 0.3900 - val_accuracy: 0.8098 - val_loss: 0.3422\n",
      "Epoch 10/100\n",
      "112/112 - 1s - 6ms/step - accuracy: 0.7734 - loss: 0.3887 - val_accuracy: 0.8345 - val_loss: 0.3387\n",
      "Epoch 11/100\n",
      "112/112 - 1s - 6ms/step - accuracy: 0.7784 - loss: 0.3847 - val_accuracy: 0.7875 - val_loss: 0.3429\n",
      "Epoch 12/100\n",
      "112/112 - 1s - 6ms/step - accuracy: 0.7712 - loss: 0.3859 - val_accuracy: 0.7942 - val_loss: 0.3362\n",
      "Epoch 13/100\n",
      "112/112 - 1s - 6ms/step - accuracy: 0.7745 - loss: 0.3853 - val_accuracy: 0.7964 - val_loss: 0.3403\n",
      "Epoch 14/100\n",
      "112/112 - 1s - 6ms/step - accuracy: 0.7829 - loss: 0.3819 - val_accuracy: 0.8389 - val_loss: 0.3338\n",
      "Epoch 15/100\n",
      "112/112 - 1s - 6ms/step - accuracy: 0.7784 - loss: 0.3811 - val_accuracy: 0.8277 - val_loss: 0.3313\n",
      "Epoch 16/100\n",
      "112/112 - 1s - 6ms/step - accuracy: 0.7734 - loss: 0.3807 - val_accuracy: 0.7919 - val_loss: 0.3381\n",
      "Epoch 17/100\n",
      "112/112 - 1s - 6ms/step - accuracy: 0.7692 - loss: 0.3823 - val_accuracy: 0.8098 - val_loss: 0.3332\n",
      "Epoch 18/100\n",
      "112/112 - 1s - 6ms/step - accuracy: 0.7726 - loss: 0.3791 - val_accuracy: 0.8098 - val_loss: 0.3303\n",
      "Epoch 19/100\n",
      "112/112 - 1s - 6ms/step - accuracy: 0.7745 - loss: 0.3812 - val_accuracy: 0.8054 - val_loss: 0.3378\n",
      "Epoch 20/100\n",
      "112/112 - 1s - 6ms/step - accuracy: 0.7728 - loss: 0.3817 - val_accuracy: 0.8054 - val_loss: 0.3307\n",
      "Epoch 21/100\n",
      "112/112 - 1s - 6ms/step - accuracy: 0.7745 - loss: 0.3829 - val_accuracy: 0.8300 - val_loss: 0.3341\n",
      "Epoch 22/100\n",
      "112/112 - 1s - 6ms/step - accuracy: 0.7798 - loss: 0.3798 - val_accuracy: 0.7852 - val_loss: 0.3306\n",
      "Epoch 23/100\n",
      "112/112 - 1s - 6ms/step - accuracy: 0.7801 - loss: 0.3796 - val_accuracy: 0.8412 - val_loss: 0.3287\n",
      "Epoch 24/100\n",
      "112/112 - 1s - 6ms/step - accuracy: 0.7698 - loss: 0.3823 - val_accuracy: 0.8143 - val_loss: 0.3331\n",
      "Epoch 25/100\n",
      "112/112 - 1s - 6ms/step - accuracy: 0.7773 - loss: 0.3775 - val_accuracy: 0.8188 - val_loss: 0.3308\n",
      "Epoch 26/100\n",
      "112/112 - 1s - 6ms/step - accuracy: 0.7759 - loss: 0.3777 - val_accuracy: 0.8300 - val_loss: 0.3267\n",
      "Epoch 27/100\n",
      "112/112 - 1s - 6ms/step - accuracy: 0.7740 - loss: 0.3822 - val_accuracy: 0.8389 - val_loss: 0.3262\n",
      "Epoch 28/100\n",
      "112/112 - 1s - 6ms/step - accuracy: 0.7818 - loss: 0.3768 - val_accuracy: 0.7942 - val_loss: 0.3374\n",
      "Epoch 29/100\n",
      "112/112 - 1s - 6ms/step - accuracy: 0.7798 - loss: 0.3798 - val_accuracy: 0.8054 - val_loss: 0.3268\n",
      "Epoch 30/100\n",
      "112/112 - 1s - 6ms/step - accuracy: 0.7809 - loss: 0.3757 - val_accuracy: 0.8009 - val_loss: 0.3376\n",
      "Epoch 31/100\n",
      "112/112 - 1s - 6ms/step - accuracy: 0.7793 - loss: 0.3756 - val_accuracy: 0.8009 - val_loss: 0.3254\n",
      "Epoch 32/100\n",
      "112/112 - 1s - 6ms/step - accuracy: 0.7717 - loss: 0.3802 - val_accuracy: 0.8098 - val_loss: 0.3266\n",
      "Epoch 33/100\n",
      "112/112 - 1s - 6ms/step - accuracy: 0.7731 - loss: 0.3759 - val_accuracy: 0.8166 - val_loss: 0.3244\n",
      "Epoch 34/100\n",
      "112/112 - 1s - 6ms/step - accuracy: 0.7854 - loss: 0.3763 - val_accuracy: 0.8076 - val_loss: 0.3263\n",
      "Epoch 35/100\n",
      "112/112 - 1s - 6ms/step - accuracy: 0.7692 - loss: 0.3795 - val_accuracy: 0.8031 - val_loss: 0.3251\n",
      "Epoch 36/100\n",
      "112/112 - 1s - 6ms/step - accuracy: 0.7770 - loss: 0.3742 - val_accuracy: 0.7942 - val_loss: 0.3361\n",
      "Epoch 37/100\n",
      "112/112 - 1s - 6ms/step - accuracy: 0.7726 - loss: 0.3760 - val_accuracy: 0.8255 - val_loss: 0.3205\n",
      "Epoch 38/100\n",
      "112/112 - 1s - 6ms/step - accuracy: 0.7765 - loss: 0.3803 - val_accuracy: 0.7942 - val_loss: 0.3284\n",
      "Epoch 39/100\n",
      "112/112 - 1s - 6ms/step - accuracy: 0.7790 - loss: 0.3740 - val_accuracy: 0.7964 - val_loss: 0.3356\n",
      "Epoch 40/100\n",
      "112/112 - 1s - 6ms/step - accuracy: 0.7801 - loss: 0.3779 - val_accuracy: 0.8188 - val_loss: 0.3361\n",
      "Epoch 41/100\n",
      "112/112 - 1s - 6ms/step - accuracy: 0.7745 - loss: 0.3817 - val_accuracy: 0.8255 - val_loss: 0.3237\n",
      "Epoch 42/100\n",
      "112/112 - 1s - 6ms/step - accuracy: 0.7703 - loss: 0.3800 - val_accuracy: 0.8143 - val_loss: 0.3234\n"
     ]
    },
    {
     "data": {
      "text/plain": [
       "<keras.src.callbacks.history.History at 0x17653a660>"
      ]
     },
     "execution_count": 5,
     "metadata": {},
     "output_type": "execute_result"
    }
   ],
   "source": [
    "input_size = 10\n",
    "output_size = 2\n",
    "hidden_layer_size = 100\n",
    "\n",
    "model = tf.keras.Sequential([\n",
    "    tf.keras.layers.Dense(128, activation='relu'),\n",
    "    tf.keras.layers.Dense(128, activation='relu'),\n",
    "    tf.keras.layers.Dense(output_size, activation='softmax')\n",
    "])\n",
    "\n",
    "model.compile(optimizer=tf.keras.optimizers.Adam(learning_rate=0.0002),\n",
    "              loss='sparse_categorical_crossentropy',\n",
    "              metrics=['accuracy'])\n",
    "\n",
    "batch_size = 32\n",
    "max_epochs = 100\n",
    "\n",
    "early_stopping = tf.keras.callbacks.EarlyStopping(patience=5)\n",
    "\n",
    "model.fit(train_inputs, train_targets, batch_size=batch_size, epochs=max_epochs,\n",
    "          callbacks=[early_stopping],\n",
    "         validation_data=(validation_inputs, validation_targets), verbose=2)"
   ]
  }
 ],
 "metadata": {
  "kernelspec": {
   "display_name": "Python (tf)",
   "language": "python",
   "name": "tf"
  },
  "language_info": {
   "codemirror_mode": {
    "name": "ipython",
    "version": 3
   },
   "file_extension": ".py",
   "mimetype": "text/x-python",
   "name": "python",
   "nbconvert_exporter": "python",
   "pygments_lexer": "ipython3",
   "version": "3.12.11"
  }
 },
 "nbformat": 4,
 "nbformat_minor": 5
}

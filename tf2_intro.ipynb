{
 "cells": [
  {
   "cell_type": "code",
   "execution_count": 1,
   "id": "5ff75211-ceba-4301-8707-c93359d6dd1f",
   "metadata": {},
   "outputs": [
    {
     "name": "stdout",
     "output_type": "stream",
     "text": [
      "2.16.2\n"
     ]
    }
   ],
   "source": [
    "import tensorflow as tf\n",
    "print(tf.__version__)\n",
    "import numpy as np\n",
    "import matplotlib.pyplot as plt"
   ]
  },
  {
   "cell_type": "code",
   "execution_count": 2,
   "id": "e4e1b82d-a76f-48de-bfec-512ed4d01315",
   "metadata": {},
   "outputs": [
    {
     "name": "stdout",
     "output_type": "stream",
     "text": [
      "Epoch 1/100\n"
     ]
    },
    {
     "name": "stderr",
     "output_type": "stream",
     "text": [
      "2025-09-15 21:20:28.602972: I metal_plugin/src/device/metal_device.cc:1154] Metal device set to: Apple M2\n",
      "2025-09-15 21:20:28.602992: I metal_plugin/src/device/metal_device.cc:296] systemMemory: 8.00 GB\n",
      "2025-09-15 21:20:28.602999: I metal_plugin/src/device/metal_device.cc:313] maxCacheSize: 2.67 GB\n",
      "2025-09-15 21:20:28.603022: I tensorflow/core/common_runtime/pluggable_device/pluggable_device_factory.cc:305] Could not identify NUMA node of platform GPU ID 0, defaulting to 0. Your kernel may not have been built with NUMA support.\n",
      "2025-09-15 21:20:28.603031: I tensorflow/core/common_runtime/pluggable_device/pluggable_device_factory.cc:271] Created TensorFlow device (/job:localhost/replica:0/task:0/device:GPU:0 with 0 MB memory) -> physical PluggableDevice (device: 0, name: METAL, pci bus id: <undefined>)\n",
      "2025-09-15 21:20:28.829283: I tensorflow/core/grappler/optimizers/custom_graph_optimizer_registry.cc:117] Plugin optimizer for device_type GPU is enabled.\n"
     ]
    },
    {
     "name": "stdout",
     "output_type": "stream",
     "text": [
      "32/32 - 0s - 10ms/step - loss: 22.7439\n",
      "Epoch 2/100\n",
      "32/32 - 0s - 3ms/step - loss: 1.2274\n",
      "Epoch 3/100\n",
      "32/32 - 0s - 3ms/step - loss: 0.4323\n",
      "Epoch 4/100\n",
      "32/32 - 0s - 3ms/step - loss: 0.4007\n",
      "Epoch 5/100\n",
      "32/32 - 0s - 3ms/step - loss: 0.4215\n",
      "Epoch 6/100\n",
      "32/32 - 0s - 3ms/step - loss: 0.3819\n",
      "Epoch 7/100\n",
      "32/32 - 0s - 3ms/step - loss: 0.3681\n",
      "Epoch 8/100\n",
      "32/32 - 0s - 3ms/step - loss: 0.3662\n",
      "Epoch 9/100\n",
      "32/32 - 0s - 3ms/step - loss: 0.3849\n",
      "Epoch 10/100\n",
      "32/32 - 0s - 3ms/step - loss: 0.3838\n",
      "Epoch 11/100\n",
      "32/32 - 0s - 3ms/step - loss: 0.4328\n",
      "Epoch 12/100\n",
      "32/32 - 0s - 3ms/step - loss: 0.4069\n",
      "Epoch 13/100\n",
      "32/32 - 0s - 3ms/step - loss: 0.3754\n",
      "Epoch 14/100\n",
      "32/32 - 0s - 3ms/step - loss: 0.3889\n",
      "Epoch 15/100\n",
      "32/32 - 0s - 3ms/step - loss: 0.3706\n",
      "Epoch 16/100\n",
      "32/32 - 0s - 3ms/step - loss: 0.3846\n",
      "Epoch 17/100\n",
      "32/32 - 0s - 3ms/step - loss: 0.3566\n",
      "Epoch 18/100\n",
      "32/32 - 0s - 3ms/step - loss: 0.3642\n",
      "Epoch 19/100\n",
      "32/32 - 0s - 3ms/step - loss: 0.4058\n",
      "Epoch 20/100\n",
      "32/32 - 0s - 3ms/step - loss: 0.3911\n",
      "Epoch 21/100\n",
      "32/32 - 0s - 3ms/step - loss: 0.3700\n",
      "Epoch 22/100\n",
      "32/32 - 0s - 3ms/step - loss: 0.3672\n",
      "Epoch 23/100\n",
      "32/32 - 0s - 3ms/step - loss: 0.3958\n",
      "Epoch 24/100\n",
      "32/32 - 0s - 3ms/step - loss: 0.3832\n",
      "Epoch 25/100\n",
      "32/32 - 0s - 3ms/step - loss: 0.3727\n",
      "Epoch 26/100\n",
      "32/32 - 0s - 3ms/step - loss: 0.3824\n",
      "Epoch 27/100\n",
      "32/32 - 0s - 3ms/step - loss: 0.3823\n",
      "Epoch 28/100\n",
      "32/32 - 0s - 3ms/step - loss: 0.3747\n",
      "Epoch 29/100\n",
      "32/32 - 0s - 3ms/step - loss: 0.3685\n",
      "Epoch 30/100\n",
      "32/32 - 0s - 3ms/step - loss: 0.3862\n",
      "Epoch 31/100\n",
      "32/32 - 0s - 3ms/step - loss: 0.3985\n",
      "Epoch 32/100\n",
      "32/32 - 0s - 3ms/step - loss: 0.3890\n",
      "Epoch 33/100\n",
      "32/32 - 0s - 3ms/step - loss: 0.3704\n",
      "Epoch 34/100\n",
      "32/32 - 0s - 3ms/step - loss: 0.4096\n",
      "Epoch 35/100\n",
      "32/32 - 0s - 3ms/step - loss: 0.3970\n",
      "Epoch 36/100\n",
      "32/32 - 0s - 3ms/step - loss: 0.3835\n",
      "Epoch 37/100\n",
      "32/32 - 0s - 3ms/step - loss: 0.3740\n",
      "Epoch 38/100\n",
      "32/32 - 0s - 3ms/step - loss: 0.3819\n",
      "Epoch 39/100\n",
      "32/32 - 0s - 3ms/step - loss: 0.3970\n",
      "Epoch 40/100\n",
      "32/32 - 0s - 3ms/step - loss: 0.3851\n",
      "Epoch 41/100\n",
      "32/32 - 0s - 3ms/step - loss: 0.3800\n",
      "Epoch 42/100\n",
      "32/32 - 0s - 3ms/step - loss: 0.3548\n",
      "Epoch 43/100\n",
      "32/32 - 0s - 3ms/step - loss: 0.4072\n",
      "Epoch 44/100\n",
      "32/32 - 0s - 3ms/step - loss: 0.3931\n",
      "Epoch 45/100\n",
      "32/32 - 0s - 3ms/step - loss: 0.4049\n",
      "Epoch 46/100\n",
      "32/32 - 0s - 3ms/step - loss: 0.3775\n",
      "Epoch 47/100\n",
      "32/32 - 0s - 3ms/step - loss: 0.3981\n",
      "Epoch 48/100\n",
      "32/32 - 0s - 3ms/step - loss: 0.4010\n",
      "Epoch 49/100\n",
      "32/32 - 0s - 3ms/step - loss: 0.3672\n",
      "Epoch 50/100\n",
      "32/32 - 0s - 3ms/step - loss: 0.3698\n",
      "Epoch 51/100\n",
      "32/32 - 0s - 3ms/step - loss: 0.3960\n",
      "Epoch 52/100\n",
      "32/32 - 0s - 3ms/step - loss: 0.3713\n",
      "Epoch 53/100\n",
      "32/32 - 0s - 3ms/step - loss: 0.3845\n",
      "Epoch 54/100\n",
      "32/32 - 0s - 3ms/step - loss: 0.3906\n",
      "Epoch 55/100\n",
      "32/32 - 0s - 3ms/step - loss: 0.3702\n",
      "Epoch 56/100\n",
      "32/32 - 0s - 3ms/step - loss: 0.3932\n",
      "Epoch 57/100\n",
      "32/32 - 0s - 3ms/step - loss: 0.3531\n",
      "Epoch 58/100\n",
      "32/32 - 0s - 3ms/step - loss: 0.3910\n",
      "Epoch 59/100\n",
      "32/32 - 0s - 3ms/step - loss: 0.3614\n",
      "Epoch 60/100\n",
      "32/32 - 0s - 3ms/step - loss: 0.3637\n",
      "Epoch 61/100\n",
      "32/32 - 0s - 3ms/step - loss: 0.3761\n",
      "Epoch 62/100\n",
      "32/32 - 0s - 3ms/step - loss: 0.3764\n",
      "Epoch 63/100\n",
      "32/32 - 0s - 3ms/step - loss: 0.3903\n",
      "Epoch 64/100\n",
      "32/32 - 0s - 3ms/step - loss: 0.3908\n",
      "Epoch 65/100\n",
      "32/32 - 0s - 3ms/step - loss: 0.3690\n",
      "Epoch 66/100\n",
      "32/32 - 0s - 3ms/step - loss: 0.3713\n",
      "Epoch 67/100\n",
      "32/32 - 0s - 3ms/step - loss: 0.3720\n",
      "Epoch 68/100\n",
      "32/32 - 0s - 3ms/step - loss: 0.3861\n",
      "Epoch 69/100\n",
      "32/32 - 0s - 3ms/step - loss: 0.3936\n",
      "Epoch 70/100\n",
      "32/32 - 0s - 3ms/step - loss: 0.3642\n",
      "Epoch 71/100\n",
      "32/32 - 0s - 3ms/step - loss: 0.3899\n",
      "Epoch 72/100\n",
      "32/32 - 0s - 3ms/step - loss: 0.3741\n",
      "Epoch 73/100\n",
      "32/32 - 0s - 3ms/step - loss: 0.4134\n",
      "Epoch 74/100\n",
      "32/32 - 0s - 3ms/step - loss: 0.3892\n",
      "Epoch 75/100\n",
      "32/32 - 0s - 3ms/step - loss: 0.3834\n",
      "Epoch 76/100\n",
      "32/32 - 0s - 3ms/step - loss: 0.3695\n",
      "Epoch 77/100\n",
      "32/32 - 0s - 3ms/step - loss: 0.3753\n",
      "Epoch 78/100\n",
      "32/32 - 0s - 3ms/step - loss: 0.3929\n",
      "Epoch 79/100\n",
      "32/32 - 0s - 3ms/step - loss: 0.3749\n",
      "Epoch 80/100\n",
      "32/32 - 0s - 3ms/step - loss: 0.4209\n",
      "Epoch 81/100\n",
      "32/32 - 0s - 3ms/step - loss: 0.3695\n",
      "Epoch 82/100\n",
      "32/32 - 0s - 3ms/step - loss: 0.3700\n",
      "Epoch 83/100\n",
      "32/32 - 0s - 3ms/step - loss: 0.3914\n",
      "Epoch 84/100\n",
      "32/32 - 0s - 3ms/step - loss: 0.3614\n",
      "Epoch 85/100\n",
      "32/32 - 0s - 3ms/step - loss: 0.3765\n",
      "Epoch 86/100\n",
      "32/32 - 0s - 3ms/step - loss: 0.3722\n",
      "Epoch 87/100\n",
      "32/32 - 0s - 3ms/step - loss: 0.3871\n",
      "Epoch 88/100\n",
      "32/32 - 0s - 3ms/step - loss: 0.4384\n",
      "Epoch 89/100\n",
      "32/32 - 0s - 3ms/step - loss: 0.3749\n",
      "Epoch 90/100\n",
      "32/32 - 0s - 3ms/step - loss: 0.3748\n",
      "Epoch 91/100\n",
      "32/32 - 0s - 3ms/step - loss: 0.3761\n",
      "Epoch 92/100\n",
      "32/32 - 0s - 3ms/step - loss: 0.3762\n",
      "Epoch 93/100\n",
      "32/32 - 0s - 3ms/step - loss: 0.3742\n",
      "Epoch 94/100\n",
      "32/32 - 0s - 3ms/step - loss: 0.4030\n",
      "Epoch 95/100\n",
      "32/32 - 0s - 3ms/step - loss: 0.4162\n",
      "Epoch 96/100\n",
      "32/32 - 0s - 3ms/step - loss: 0.3755\n",
      "Epoch 97/100\n",
      "32/32 - 0s - 3ms/step - loss: 0.3598\n",
      "Epoch 98/100\n",
      "32/32 - 0s - 3ms/step - loss: 0.4008\n",
      "Epoch 99/100\n",
      "32/32 - 0s - 3ms/step - loss: 0.3736\n",
      "Epoch 100/100\n",
      "32/32 - 0s - 3ms/step - loss: 0.4080\n"
     ]
    },
    {
     "data": {
      "text/plain": [
       "<keras.src.callbacks.history.History at 0x155dd6ff0>"
      ]
     },
     "execution_count": 2,
     "metadata": {},
     "output_type": "execute_result"
    }
   ],
   "source": [
    "observations = 1000\n",
    "xs = np.random.uniform(low=-10, high=10, size=(observations, 1))\n",
    "zs = np.random.uniform(low=-10, high=10, size=(observations, 1))\n",
    "\n",
    "generated_inputs = np.column_stack((xs, zs))\n",
    "\n",
    "noise = np.random.uniform(-1, 1, size=(observations, 1))\n",
    "\n",
    "generated_targets = 2*xs - 3*zs + 5 + noise\n",
    "\n",
    "np.savez('TF_Introduction', inputs=generated_inputs, targets=generated_targets)\n",
    "\n",
    "training_data = np.load('TF_Introduction.npz')\n",
    "\n",
    "input_size = 2\n",
    "output_size = 1\n",
    "\n",
    "# seq func specifies how the model will be laid down (stack layers)\n",
    "# linear combination + output -> layer\n",
    "model = tf.keras.Sequential([\n",
    "    # calculates dot product of inputs and weights and adds bias\n",
    "    tf.keras.layers.Dense(output_size,\n",
    "                         kernel_initializer=tf.random_uniform_initializer(minval=-0.1, maxval=0.1),\n",
    "                         bias_initializer=tf.random_uniform_initializer(minval=-0.1, maxval=0.1)\n",
    "                         )\n",
    "])\n",
    "\n",
    "# configs model for training\n",
    "# sgd -> stochastic gradient descent (optimizer)\n",
    "# l2 norm loss - scaled by num of observations\n",
    "custom_optimizer = tf.keras.optimizers.SGD(learning_rate=0.02)\n",
    "model.compile(optimizer=custom_optimizer, loss='mean_squared_error')\n",
    "\n",
    "# epoch = iteration over full dataset\n",
    "# verbose 0 silent, verbose 1 progress bar\n",
    "model.fit(training_data['inputs'], training_data['targets'], epochs=100, verbose=2)\n"
   ]
  },
  {
   "cell_type": "code",
   "execution_count": 3,
   "id": "215f9bd2-aba9-40de-83c7-2f83bbff5744",
   "metadata": {},
   "outputs": [
    {
     "data": {
      "text/plain": [
       "(array([[ 2.0164065],\n",
       "        [-2.899657 ]], dtype=float32),\n",
       " array([5.0448356], dtype=float32))"
      ]
     },
     "execution_count": 3,
     "metadata": {},
     "output_type": "execute_result"
    }
   ],
   "source": [
    "weights = model.layers[0].get_weights()[0]\n",
    "bias = model.layers[0].get_weights()[1]\n",
    "weights, bias"
   ]
  },
  {
   "cell_type": "code",
   "execution_count": 4,
   "id": "67b6834d-c6de-4493-9a25-8969d88f20d1",
   "metadata": {},
   "outputs": [
    {
     "data": {
      "text/plain": [
       "[<matplotlib.lines.Line2D at 0x1571e7560>]"
      ]
     },
     "execution_count": 4,
     "metadata": {},
     "output_type": "execute_result"
    },
    {
     "data": {
      "image/png": "[encoded data removed]",
      "text/plain": [
       "<Figure size 640x480 with 1 Axes>"
      ]
     },
     "metadata": {},
     "output_type": "display_data"
    }
   ],
   "source": [
    "plt.plot(np.squeeze(model.predict_on_batch(training_data['inputs'])), np.squeeze(training_data['targets']))"
   ]
  }
 ],
 "metadata": {
  "kernelspec": {
   "display_name": "Python (tf)",
   "language": "python",
   "name": "tf"
  },
  "language_info": {
   "codemirror_mode": {
    "name": "ipython",
    "version": 3
   },
   "file_extension": ".py",
   "mimetype": "text/x-python",
   "name": "python",
   "nbconvert_exporter": "python",
   "pygments_lexer": "ipython3",
   "version": "3.12.11"
  }
 },
 "nbformat": 4,
 "nbformat_minor": 5
}
